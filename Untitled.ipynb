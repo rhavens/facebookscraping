{
 "cells": [
  {
   "cell_type": "code",
   "execution_count": 124,
   "metadata": {
    "collapsed": true
   },
   "outputs": [],
   "source": [
    "import requests\n",
    "import json\n",
    "import pprint\n",
    "import os\n",
    "from copy import deepcopy\n",
    "import datetime\n",
    "from dateutil import parser, tz\n",
    "from collections import defaultdict\n",
    "import matplotlib.pyplot as plt\n"
   ]
  },
  {
   "cell_type": "code",
   "execution_count": 167,
   "metadata": {
    "collapsed": false
   },
   "outputs": [
    {
     "ename": "KeyError",
     "evalue": "'AUTH_TOKEN'",
     "output_type": "error",
     "traceback": [
      "\u001b[0;31m---------------------------------------------------------------------------\u001b[0m",
      "\u001b[0;31mKeyError\u001b[0m                                  Traceback (most recent call last)",
      "\u001b[0;32m<ipython-input-167-289eea74d80b>\u001b[0m in \u001b[0;36m<module>\u001b[0;34m()\u001b[0m\n\u001b[1;32m      1\u001b[0m \u001b[0;31m# def get_url(url):\u001b[0m\u001b[0;34m\u001b[0m\u001b[0;34m\u001b[0m\u001b[0m\n\u001b[1;32m      2\u001b[0m \u001b[0;34m\u001b[0m\u001b[0m\n\u001b[0;32m----> 3\u001b[0;31m \u001b[0maccess_token\u001b[0m \u001b[0;34m=\u001b[0m \u001b[0mos\u001b[0m\u001b[0;34m.\u001b[0m\u001b[0menviron\u001b[0m\u001b[0;34m[\u001b[0m\u001b[0;34m'AUTH_TOKEN'\u001b[0m\u001b[0;34m]\u001b[0m\u001b[0;34m\u001b[0m\u001b[0m\n\u001b[0m\u001b[1;32m      4\u001b[0m \u001b[0mFB_LIMIT\u001b[0m \u001b[0;34m=\u001b[0m \u001b[0;36m25\u001b[0m \u001b[0;31m# facebook gives 25 items in pagination\u001b[0m\u001b[0;34m\u001b[0m\u001b[0m\n\u001b[1;32m      5\u001b[0m \u001b[0mREACTION_DICT\u001b[0m \u001b[0;34m=\u001b[0m \u001b[0;34m{\u001b[0m\u001b[0;34m'LIKE'\u001b[0m\u001b[0;34m:\u001b[0m\u001b[0;36m0\u001b[0m\u001b[0;34m,\u001b[0m\u001b[0;34m'LOVE'\u001b[0m\u001b[0;34m:\u001b[0m\u001b[0;36m0\u001b[0m\u001b[0;34m,\u001b[0m\u001b[0;34m'HAHA'\u001b[0m\u001b[0;34m:\u001b[0m\u001b[0;36m0\u001b[0m\u001b[0;34m,\u001b[0m\u001b[0;34m'WOW'\u001b[0m\u001b[0;34m:\u001b[0m\u001b[0;36m0\u001b[0m\u001b[0;34m,\u001b[0m\u001b[0;34m'SAD'\u001b[0m\u001b[0;34m:\u001b[0m\u001b[0;36m0\u001b[0m\u001b[0;34m,\u001b[0m\u001b[0;34m'ANGRY'\u001b[0m\u001b[0;34m:\u001b[0m\u001b[0;36m0\u001b[0m\u001b[0;34m}\u001b[0m\u001b[0;34m\u001b[0m\u001b[0m\n",
      "\u001b[0;32m/usr/lib/python2.7/UserDict.pyc\u001b[0m in \u001b[0;36m__getitem__\u001b[0;34m(self, key)\u001b[0m\n\u001b[1;32m     38\u001b[0m         \u001b[0;32mif\u001b[0m \u001b[0mhasattr\u001b[0m\u001b[0;34m(\u001b[0m\u001b[0mself\u001b[0m\u001b[0;34m.\u001b[0m\u001b[0m__class__\u001b[0m\u001b[0;34m,\u001b[0m \u001b[0;34m\"__missing__\"\u001b[0m\u001b[0;34m)\u001b[0m\u001b[0;34m:\u001b[0m\u001b[0;34m\u001b[0m\u001b[0m\n\u001b[1;32m     39\u001b[0m             \u001b[0;32mreturn\u001b[0m \u001b[0mself\u001b[0m\u001b[0;34m.\u001b[0m\u001b[0m__class__\u001b[0m\u001b[0;34m.\u001b[0m\u001b[0m__missing__\u001b[0m\u001b[0;34m(\u001b[0m\u001b[0mself\u001b[0m\u001b[0;34m,\u001b[0m \u001b[0mkey\u001b[0m\u001b[0;34m)\u001b[0m\u001b[0;34m\u001b[0m\u001b[0m\n\u001b[0;32m---> 40\u001b[0;31m         \u001b[0;32mraise\u001b[0m \u001b[0mKeyError\u001b[0m\u001b[0;34m(\u001b[0m\u001b[0mkey\u001b[0m\u001b[0;34m)\u001b[0m\u001b[0;34m\u001b[0m\u001b[0m\n\u001b[0m\u001b[1;32m     41\u001b[0m     \u001b[0;32mdef\u001b[0m \u001b[0m__setitem__\u001b[0m\u001b[0;34m(\u001b[0m\u001b[0mself\u001b[0m\u001b[0;34m,\u001b[0m \u001b[0mkey\u001b[0m\u001b[0;34m,\u001b[0m \u001b[0mitem\u001b[0m\u001b[0;34m)\u001b[0m\u001b[0;34m:\u001b[0m \u001b[0mself\u001b[0m\u001b[0;34m.\u001b[0m\u001b[0mdata\u001b[0m\u001b[0;34m[\u001b[0m\u001b[0mkey\u001b[0m\u001b[0;34m]\u001b[0m \u001b[0;34m=\u001b[0m \u001b[0mitem\u001b[0m\u001b[0;34m\u001b[0m\u001b[0m\n\u001b[1;32m     42\u001b[0m     \u001b[0;32mdef\u001b[0m \u001b[0m__delitem__\u001b[0m\u001b[0;34m(\u001b[0m\u001b[0mself\u001b[0m\u001b[0;34m,\u001b[0m \u001b[0mkey\u001b[0m\u001b[0;34m)\u001b[0m\u001b[0;34m:\u001b[0m \u001b[0;32mdel\u001b[0m \u001b[0mself\u001b[0m\u001b[0;34m.\u001b[0m\u001b[0mdata\u001b[0m\u001b[0;34m[\u001b[0m\u001b[0mkey\u001b[0m\u001b[0;34m]\u001b[0m\u001b[0;34m\u001b[0m\u001b[0m\n",
      "\u001b[0;31mKeyError\u001b[0m: 'AUTH_TOKEN'"
     ]
    }
   ],
   "source": [
    "# def get_url(url):\n",
    "\n",
    "access_token = os.environ['AUTH_TOKEN']\n",
    "FB_LIMIT = 25 # facebook gives 25 items in pagination\n",
    "REACTION_DICT = {'LIKE':0,'LOVE':0,'HAHA':0,'WOW':0,'SAD':0,'ANGRY':0}\n",
    "\n",
    "\n",
    "url_to_get = \"https://graph.facebook.com/v2.8/1850066501928133/feed?fields=id,type,from,link,message,message_tags,name,object_id,picture,status_type,story,updated_time,created_time,comments{id,from,like_count,message,message_tags},reactions{id,name,type},full_picture,parent_id,attachments{url,type,description,media}&access_token=\" + access_token\n",
    "#url_to_get = \"https://graph.facebook.com/v2.3/1850066501928133/feed?format=json&icon_size=16&access_token=\" + access_token\n",
    "# get_url(url_to_get)\n",
    "\n",
    "response = requests.get(url_to_get)\n",
    "print response\n",
    "data = json.loads(response.text)"
   ]
  },
  {
   "cell_type": "code",
   "execution_count": 173,
   "metadata": {
    "collapsed": false
   },
   "outputs": [
    {
     "data": {
      "text/plain": [
       "False"
      ]
     },
     "execution_count": 173,
     "metadata": {},
     "output_type": "execute_result"
    }
   ],
   "source": [
    "b = requests.get('http://example.org/404')\n",
    "b.ok"
   ]
  },
  {
   "cell_type": "code",
   "execution_count": 77,
   "metadata": {
    "collapsed": false
   },
   "outputs": [
    {
     "data": {
      "text/plain": [
       "{u'attachments': {u'data': [{u'description': u'when u walk out of cvs and see the Joey about to leave Davis',\n",
       "    u'media': {u'image': {u'height': 375,\n",
       "      u'src': u'https://scontent.xx.fbcdn.net/v/t1.0-9/17021569_1592599420758161_35593085836484331_n.jpg?oh=fa51a5ea47c7e4ae6501fe43e9200d94&oe=5945C8C6',\n",
       "      u'width': 500}},\n",
       "    u'type': u'photo',\n",
       "    u'url': u'https://www.facebook.com/photo.php?fbid=1592599420758161&set=gm.1858600104408106&type=3'}]},\n",
       " u'comments': {u'data': [{u'from': {u'id': u'10202289664841790',\n",
       "     u'name': u'William McKenna'},\n",
       "    u'id': u'1858605171074266',\n",
       "    u'like_count': 1,\n",
       "    u'message': u'Kelly Kollias',\n",
       "    u'message_tags': [{u'id': u'897946960223928',\n",
       "      u'length': 13,\n",
       "      u'name': u'Kelly Kollias',\n",
       "      u'offset': 0,\n",
       "      u'type': u'user'}]},\n",
       "   {u'from': {u'id': u'156083851410106', u'name': u'Samsam Dirie'},\n",
       "    u'id': u'1858617864406330',\n",
       "    u'like_count': 2,\n",
       "    u'message': u'Heresa Guerrier Jingqi Yang Chanel Richardson you guys that one day',\n",
       "    u'message_tags': [{u'id': u'460975154041112',\n",
       "      u'length': 15,\n",
       "      u'name': u'Heresa Guerrier',\n",
       "      u'offset': 0,\n",
       "      u'type': u'user'},\n",
       "     {u'id': u'933486843344566',\n",
       "      u'length': 11,\n",
       "      u'name': u'Jingqi Yang',\n",
       "      u'offset': 16,\n",
       "      u'type': u'user'},\n",
       "     {u'id': u'206468626414961',\n",
       "      u'length': 17,\n",
       "      u'name': u'Chanel Richardson',\n",
       "      u'offset': 28,\n",
       "      u'type': u'user'}]},\n",
       "   {u'from': {u'id': u'10207319233122121', u'name': u'Miranda Perez'},\n",
       "    u'id': u'1858636317737818',\n",
       "    u'like_count': 1,\n",
       "    u'message': u'Lupita Rodr\\xedguezGuadalupe Garcia Rodriguez you two... always...',\n",
       "    u'message_tags': [{u'id': u'983779294989974',\n",
       "      u'length': 16,\n",
       "      u'name': u'Lupita Rodr\\xedguez',\n",
       "      u'offset': 0,\n",
       "      u'type': u'user'},\n",
       "     {u'id': u'1010898012265351',\n",
       "      u'length': 26,\n",
       "      u'name': u'Guadalupe Garcia Rodriguez',\n",
       "      u'offset': 16,\n",
       "      u'type': u'user'}]},\n",
       "   {u'from': {u'id': u'803922796331547', u'name': u'Maddie Payne'},\n",
       "    u'id': u'1858638514404265',\n",
       "    u'like_count': 1,\n",
       "    u'message': u'Ian Mao',\n",
       "    u'message_tags': [{u'id': u'1580173748948119',\n",
       "      u'length': 7,\n",
       "      u'name': u'Ian Mao',\n",
       "      u'offset': 0,\n",
       "      u'type': u'user'}]},\n",
       "   {u'from': {u'id': u'918585851563176', u'name': u'Ken Zhou'},\n",
       "    u'id': u'1858639504404166',\n",
       "    u'like_count': 1,\n",
       "    u'message': u'Or JP licks Christine Ishan',\n",
       "    u'message_tags': [{u'id': u'10202172058142704',\n",
       "      u'length': 9,\n",
       "      u'name': u'Christine Jahn',\n",
       "      u'offset': 12,\n",
       "      u'type': u'user'},\n",
       "     {u'id': u'890837720930670',\n",
       "      u'length': 5,\n",
       "      u'name': u'Ishan Gupta',\n",
       "      u'offset': 22,\n",
       "      u'type': u'user'}]},\n",
       "   {u'from': {u'id': u'812415622227449', u'name': u'Sophia Balsamo'},\n",
       "    u'id': u'1858641597737290',\n",
       "    u'like_count': 1,\n",
       "    u'message': u'too real stanton'},\n",
       "   {u'from': {u'id': u'668912766613696', u'name': u'Lea Pensoy'},\n",
       "    u'id': u'1858653094402807',\n",
       "    u'like_count': 1,\n",
       "    u'message': u'Ava Nusblatt remember',\n",
       "    u'message_tags': [{u'id': u'1169226079780029',\n",
       "      u'length': 12,\n",
       "      u'name': u'Ava Nusblatt',\n",
       "      u'offset': 0,\n",
       "      u'type': u'user'}]},\n",
       "   {u'from': {u'id': u'10152736498940857', u'name': u'Sophia Lin'},\n",
       "    u'id': u'1858653124402804',\n",
       "    u'like_count': 0,\n",
       "    u'message': u'Jessica Fan',\n",
       "    u'message_tags': [{u'id': u'10203508160559190',\n",
       "      u'length': 11,\n",
       "      u'name': u'Jessica Fan',\n",
       "      u'offset': 0,\n",
       "      u'type': u'user'}]}],\n",
       "  u'paging': {u'cursors': {u'after': u'WTI5dGJXVnVkRjlqZAFhKemIzSTZANVGcxT0RZAMU16RXlORFF3TWpnd05Eb3hORGc0TWpNM09EazQZD',\n",
       "    u'before': u'WTI5dGJXVnVkRjlqZAFhKemIzSTZANVGcxT0RZAd05URTNNVEEzTkRJMk5qb3hORGc0TWpJNU5UazUZD'}}},\n",
       " u'created_time': u'2017-02-27T20:42:27+0000',\n",
       " u'from': {u'id': u'935604913124285', u'name': u'Stanton Cope'},\n",
       " u'full_picture': u'https://scontent.xx.fbcdn.net/v/t1.0-9/17021569_1592599420758161_35593085836484331_n.jpg?oh=fa51a5ea47c7e4ae6501fe43e9200d94&oe=5945C8C6',\n",
       " u'id': u'1850066501928133_1858600104408106',\n",
       " u'link': u'https://www.facebook.com/photo.php?fbid=1592599420758161&set=gm.1858600104408106&type=3',\n",
       " u'message': u'when u walk out of cvs and see the Joey about to leave Davis',\n",
       " u'object_id': u'1592599420758161',\n",
       " u'picture': u'https://scontent.xx.fbcdn.net/v/t1.0-0/s130x130/17021569_1592599420758161_35593085836484331_n.jpg?oh=34550c65003a83c19aa2c710bb21894b&oe=592D1975',\n",
       " 'reaction_data': {'ANGRY': 0,\n",
       "  'HAHA': 5,\n",
       "  'LIKE': 283,\n",
       "  'LOVE': 2,\n",
       "  'SAD': 8,\n",
       "  'WOW': 7},\n",
       " u'reactions': {u'data': [{u'id': u'878921018797254',\n",
       "    u'name': u'Selina Tang',\n",
       "    u'type': u'LIKE'},\n",
       "   {u'id': u'906076579454649',\n",
       "    u'name': u'Sammy Stolzenbach',\n",
       "    u'type': u'LIKE'},\n",
       "   {u'id': u'10204908697171544', u'name': u'Kenny Li', u'type': u'LIKE'},\n",
       "   {u'id': u'1067884286575732', u'name': u'Morgan Leppla', u'type': u'LIKE'},\n",
       "   {u'id': u'933486843344566', u'name': u'Jingqi Yang', u'type': u'SAD'},\n",
       "   {u'id': u'10152736498940857', u'name': u'Sophia Lin', u'type': u'LIKE'},\n",
       "   {u'id': u'625318174232805', u'name': u'Hanaa Malik', u'type': u'LIKE'},\n",
       "   {u'id': u'10201553385995552', u'name': u'Neeki Parsa', u'type': u'LIKE'},\n",
       "   {u'id': u'929521793765687', u'name': u'Justin Krakoff', u'type': u'LIKE'},\n",
       "   {u'id': u'1099978433345497', u'name': u'Gabriel Bird', u'type': u'LIKE'},\n",
       "   {u'id': u'455498621268452', u'name': u'Sasha Cunningham', u'type': u'WOW'},\n",
       "   {u'id': u'913112795449472', u'name': u'Cyrus Miceli', u'type': u'LIKE'},\n",
       "   {u'id': u'10203032587807167',\n",
       "    u'name': u'David McConnell',\n",
       "    u'type': u'LIKE'},\n",
       "   {u'id': u'1041379995929338', u'name': u'David Levitsky', u'type': u'LIKE'},\n",
       "   {u'id': u'1295296207154356', u'name': u'Hannah Zafar', u'type': u'LIKE'},\n",
       "   {u'id': u'636423143122104', u'name': u'Chris Simotas', u'type': u'LIKE'},\n",
       "   {u'id': u'10205775982709385', u'name': u'Lizzie Boston', u'type': u'LIKE'},\n",
       "   {u'id': u'10204790024829992', u'name': u'Edie Statham', u'type': u'LIKE'},\n",
       "   {u'id': u'10204416120433087', u'name': u'Moira Lavelle', u'type': u'LIKE'},\n",
       "   {u'id': u'10205063748410408', u'name': u'Tara Watson', u'type': u'LIKE'},\n",
       "   {u'id': u'10203457752232999',\n",
       "    u'name': u'Delia Motavalli',\n",
       "    u'type': u'LIKE'},\n",
       "   {u'id': u'490568304418189', u'name': u'Vince Duong', u'type': u'LIKE'},\n",
       "   {u'id': u'832995430071678', u'name': u'Scott Einsidler', u'type': u'LIKE'},\n",
       "   {u'id': u'764738453614051', u'name': u'Leonardo Ruiz', u'type': u'LIKE'},\n",
       "   {u'id': u'806720209393491', u'name': u'Ming Lewis', u'type': u'LIKE'}],\n",
       "  u'paging': {u'cursors': {u'after': u'TVRBd01EQXhOalkxTlRnME1UVTRPakUwT0RneU16WTBPRFE2TWpVME1EazJNVFl4TXc9PQZDZD',\n",
       "    u'before': u'TVRBd01EQXdNemd3T1RFM01qYzNPakUwT0RneU16ZA3dNalk2TWpVME1EazJNVFl4TXc9PQZDZD'},\n",
       "   u'next': u'https://graph.facebook.com/v2.8/1850066501928133_1858600104408106/reactions?access_token=EAACEdEose0cBAKWtQKmwqTYVYL3gB8Sds7m6QEtt0M89dcd0W6v1vdTicxEXFV65AhX1QlV6IQsUB3cjHYo17bUhMg03wM0lRg54F3mOqBKHMOMnoOb4ejAMZCXwI0ySpqTv6VlvEsevZAfC1HSurZAscfeO1PeAKUhaUUqPZC84rckYdF9VK6uRyR7stjIZD&fields=id%2Cname%2Ctype&limit=25&after=TVRBd01EQXhOalkxTlRnME1UVTRPakUwT0RneU16WTBPRFE2TWpVME1EazJNVFl4TXc9PQZDZD'}},\n",
       " u'status_type': u'added_photos',\n",
       " 'total_reactions': 305,\n",
       " u'type': u'photo',\n",
       " u'updated_time': u'2017-02-27T23:24:57+0000'}"
      ]
     },
     "execution_count": 77,
     "metadata": {},
     "output_type": "execute_result"
    }
   ],
   "source": [
    "data['data'][0]"
   ]
  },
  {
   "cell_type": "code",
   "execution_count": 2,
   "metadata": {
    "collapsed": false
   },
   "outputs": [
    {
     "data": {
      "text/plain": [
       "{u'from': {u'id': u'10202289664841790', u'name': u'William McKenna'},\n",
       " u'id': u'1858605171074266',\n",
       " u'like_count': 1,\n",
       " u'message': u'Kelly Kollias',\n",
       " u'message_tags': [{u'id': u'897946960223928',\n",
       "   u'length': 13,\n",
       "   u'name': u'Kelly Kollias',\n",
       "   u'offset': 0,\n",
       "   u'type': u'user'}]}"
      ]
     },
     "execution_count": 2,
     "metadata": {},
     "output_type": "execute_result"
    }
   ],
   "source": [
    "data['data'][0]['comments']['data'][0]"
   ]
  },
  {
   "cell_type": "code",
   "execution_count": 3,
   "metadata": {
    "collapsed": false
   },
   "outputs": [
    {
     "data": {
      "text/plain": [
       "[u'attachments',\n",
       " u'comments',\n",
       " u'created_time',\n",
       " u'from',\n",
       " u'full_picture',\n",
       " u'id',\n",
       " u'link',\n",
       " u'message',\n",
       " u'object_id',\n",
       " u'picture',\n",
       " u'reactions',\n",
       " u'status_type',\n",
       " u'type',\n",
       " u'updated_time']"
      ]
     },
     "execution_count": 3,
     "metadata": {},
     "output_type": "execute_result"
    }
   ],
   "source": [
    "sorted(data['data'][0].keys())\n",
    "\n",
    "# Schema:\n",
    "#     actions\n",
    "#         array of link/name objects\n",
    "#     caption: caption of linked item (e.g. media.giphy.com)\n",
    "#     commments\n",
    "#         data: array of comment objects\n",
    "#             can_remove: useless\n",
    "#             created_time: time posted\n",
    "#             from: user object\n",
    "#                 id\n",
    "#                 name\n",
    "#             id: comment id\n",
    "#             like_count: summary of likes, doesn't say who liked it\n",
    "#                 (( can figure out who liked it by looking up /version/commentID/likes ))\n",
    "#             message: the comment\n",
    "#             message_tags: array of message tag objects\n",
    "#                 id: id of the tagged thing\n",
    "#                 length: how long the tag is\n",
    "#                 name: who/what is tagged\n",
    "#                 offset: distance of tag from start of comment\n",
    "#                 type: seems to indicate whether it's a user or a page or idk what else\n",
    "#             user_likes: whether you have liked it or not\n",
    "#         paging\n",
    "        \n",
    "#     created_time: created time, in GMT+0\n",
    "#     from: user object\n",
    "#         id\n",
    "#         name\n",
    "#     icon: useless\n",
    "#     id: first part is group id, after underscore is post id\n",
    "#     is_expired: useless\n",
    "#     is_hidden: useless\n",
    "#     likes\n",
    "#         data: array of user truncs\n",
    "#             id\n",
    "#             name\n",
    "#         paging\n",
    "#     link: link to picture\n",
    "#     message: the text of the post\n",
    "#     name: name of the linked site (e.g. giphy.com)\n",
    "#     picture: preview image for link\n",
    "#     privacy: useless\n",
    "#     status_type: useless\n",
    "#     story: useless\n",
    "#     story_tags: tags in the story\n",
    "#     type: type of post\n",
    "#     updated_time: time the post was updated\n",
    "    "
   ]
  },
  {
   "cell_type": "code",
   "execution_count": 4,
   "metadata": {
    "collapsed": false
   },
   "outputs": [
    {
     "data": {
      "text/plain": [
       "{u'attachments': {u'data': [{u'description': u'when u walk out of cvs and see the Joey about to leave Davis',\n",
       "    u'media': {u'image': {u'height': 375,\n",
       "      u'src': u'https://scontent.xx.fbcdn.net/v/t1.0-9/17021569_1592599420758161_35593085836484331_n.jpg?oh=fa51a5ea47c7e4ae6501fe43e9200d94&oe=5945C8C6',\n",
       "      u'width': 500}},\n",
       "    u'type': u'photo',\n",
       "    u'url': u'https://www.facebook.com/photo.php?fbid=1592599420758161&set=gm.1858600104408106&type=3'}]},\n",
       " u'comments': {u'data': [{u'from': {u'id': u'10202289664841790',\n",
       "     u'name': u'William McKenna'},\n",
       "    u'id': u'1858605171074266',\n",
       "    u'like_count': 1,\n",
       "    u'message': u'Kelly Kollias',\n",
       "    u'message_tags': [{u'id': u'897946960223928',\n",
       "      u'length': 13,\n",
       "      u'name': u'Kelly Kollias',\n",
       "      u'offset': 0,\n",
       "      u'type': u'user'}]},\n",
       "   {u'from': {u'id': u'156083851410106', u'name': u'Samsam Dirie'},\n",
       "    u'id': u'1858617864406330',\n",
       "    u'like_count': 2,\n",
       "    u'message': u'Heresa Guerrier Jingqi Yang Chanel Richardson you guys that one day',\n",
       "    u'message_tags': [{u'id': u'460975154041112',\n",
       "      u'length': 15,\n",
       "      u'name': u'Heresa Guerrier',\n",
       "      u'offset': 0,\n",
       "      u'type': u'user'},\n",
       "     {u'id': u'933486843344566',\n",
       "      u'length': 11,\n",
       "      u'name': u'Jingqi Yang',\n",
       "      u'offset': 16,\n",
       "      u'type': u'user'},\n",
       "     {u'id': u'206468626414961',\n",
       "      u'length': 17,\n",
       "      u'name': u'Chanel Richardson',\n",
       "      u'offset': 28,\n",
       "      u'type': u'user'}]},\n",
       "   {u'from': {u'id': u'10207319233122121', u'name': u'Miranda Perez'},\n",
       "    u'id': u'1858636317737818',\n",
       "    u'like_count': 1,\n",
       "    u'message': u'Lupita Rodr\\xedguezGuadalupe Garcia Rodriguez you two... always...',\n",
       "    u'message_tags': [{u'id': u'983779294989974',\n",
       "      u'length': 16,\n",
       "      u'name': u'Lupita Rodr\\xedguez',\n",
       "      u'offset': 0,\n",
       "      u'type': u'user'},\n",
       "     {u'id': u'1010898012265351',\n",
       "      u'length': 26,\n",
       "      u'name': u'Guadalupe Garcia Rodriguez',\n",
       "      u'offset': 16,\n",
       "      u'type': u'user'}]},\n",
       "   {u'from': {u'id': u'803922796331547', u'name': u'Maddie Payne'},\n",
       "    u'id': u'1858638514404265',\n",
       "    u'like_count': 1,\n",
       "    u'message': u'Ian Mao',\n",
       "    u'message_tags': [{u'id': u'1580173748948119',\n",
       "      u'length': 7,\n",
       "      u'name': u'Ian Mao',\n",
       "      u'offset': 0,\n",
       "      u'type': u'user'}]},\n",
       "   {u'from': {u'id': u'918585851563176', u'name': u'Ken Zhou'},\n",
       "    u'id': u'1858639504404166',\n",
       "    u'like_count': 1,\n",
       "    u'message': u'Or JP licks Christine Ishan',\n",
       "    u'message_tags': [{u'id': u'10202172058142704',\n",
       "      u'length': 9,\n",
       "      u'name': u'Christine Jahn',\n",
       "      u'offset': 12,\n",
       "      u'type': u'user'},\n",
       "     {u'id': u'890837720930670',\n",
       "      u'length': 5,\n",
       "      u'name': u'Ishan Gupta',\n",
       "      u'offset': 22,\n",
       "      u'type': u'user'}]},\n",
       "   {u'from': {u'id': u'812415622227449', u'name': u'Sophia Balsamo'},\n",
       "    u'id': u'1858641597737290',\n",
       "    u'like_count': 1,\n",
       "    u'message': u'too real stanton'},\n",
       "   {u'from': {u'id': u'668912766613696', u'name': u'Lea Pensoy'},\n",
       "    u'id': u'1858653094402807',\n",
       "    u'like_count': 1,\n",
       "    u'message': u'Ava Nusblatt remember',\n",
       "    u'message_tags': [{u'id': u'1169226079780029',\n",
       "      u'length': 12,\n",
       "      u'name': u'Ava Nusblatt',\n",
       "      u'offset': 0,\n",
       "      u'type': u'user'}]},\n",
       "   {u'from': {u'id': u'10152736498940857', u'name': u'Sophia Lin'},\n",
       "    u'id': u'1858653124402804',\n",
       "    u'like_count': 0,\n",
       "    u'message': u'Jessica Fan',\n",
       "    u'message_tags': [{u'id': u'10203508160559190',\n",
       "      u'length': 11,\n",
       "      u'name': u'Jessica Fan',\n",
       "      u'offset': 0,\n",
       "      u'type': u'user'}]}],\n",
       "  u'paging': {u'cursors': {u'after': u'WTI5dGJXVnVkRjlqZAFhKemIzSTZANVGcxT0RZAMU16RXlORFF3TWpnd05Eb3hORGc0TWpNM09EazQZD',\n",
       "    u'before': u'WTI5dGJXVnVkRjlqZAFhKemIzSTZANVGcxT0RZAd05URTNNVEEzTkRJMk5qb3hORGc0TWpJNU5UazUZD'}}},\n",
       " u'created_time': u'2017-02-27T20:42:27+0000',\n",
       " u'from': {u'id': u'935604913124285', u'name': u'Stanton Cope'},\n",
       " u'full_picture': u'https://scontent.xx.fbcdn.net/v/t1.0-9/17021569_1592599420758161_35593085836484331_n.jpg?oh=fa51a5ea47c7e4ae6501fe43e9200d94&oe=5945C8C6',\n",
       " u'id': u'1850066501928133_1858600104408106',\n",
       " u'link': u'https://www.facebook.com/photo.php?fbid=1592599420758161&set=gm.1858600104408106&type=3',\n",
       " u'message': u'when u walk out of cvs and see the Joey about to leave Davis',\n",
       " u'object_id': u'1592599420758161',\n",
       " u'picture': u'https://scontent.xx.fbcdn.net/v/t1.0-0/s130x130/17021569_1592599420758161_35593085836484331_n.jpg?oh=34550c65003a83c19aa2c710bb21894b&oe=592D1975',\n",
       " u'reactions': {u'data': [{u'id': u'878921018797254',\n",
       "    u'name': u'Selina Tang',\n",
       "    u'type': u'LIKE'},\n",
       "   {u'id': u'906076579454649',\n",
       "    u'name': u'Sammy Stolzenbach',\n",
       "    u'type': u'LIKE'},\n",
       "   {u'id': u'10204908697171544', u'name': u'Kenny Li', u'type': u'LIKE'},\n",
       "   {u'id': u'1067884286575732', u'name': u'Morgan Leppla', u'type': u'LIKE'},\n",
       "   {u'id': u'933486843344566', u'name': u'Jingqi Yang', u'type': u'SAD'},\n",
       "   {u'id': u'10152736498940857', u'name': u'Sophia Lin', u'type': u'LIKE'},\n",
       "   {u'id': u'625318174232805', u'name': u'Hanaa Malik', u'type': u'LIKE'},\n",
       "   {u'id': u'10201553385995552', u'name': u'Neeki Parsa', u'type': u'LIKE'},\n",
       "   {u'id': u'929521793765687', u'name': u'Justin Krakoff', u'type': u'LIKE'},\n",
       "   {u'id': u'1099978433345497', u'name': u'Gabriel Bird', u'type': u'LIKE'},\n",
       "   {u'id': u'455498621268452', u'name': u'Sasha Cunningham', u'type': u'WOW'},\n",
       "   {u'id': u'913112795449472', u'name': u'Cyrus Miceli', u'type': u'LIKE'},\n",
       "   {u'id': u'10203032587807167',\n",
       "    u'name': u'David McConnell',\n",
       "    u'type': u'LIKE'},\n",
       "   {u'id': u'1041379995929338', u'name': u'David Levitsky', u'type': u'LIKE'},\n",
       "   {u'id': u'1295296207154356', u'name': u'Hannah Zafar', u'type': u'LIKE'},\n",
       "   {u'id': u'636423143122104', u'name': u'Chris Simotas', u'type': u'LIKE'},\n",
       "   {u'id': u'10205775982709385', u'name': u'Lizzie Boston', u'type': u'LIKE'},\n",
       "   {u'id': u'10204790024829992', u'name': u'Edie Statham', u'type': u'LIKE'},\n",
       "   {u'id': u'10204416120433087', u'name': u'Moira Lavelle', u'type': u'LIKE'},\n",
       "   {u'id': u'10205063748410408', u'name': u'Tara Watson', u'type': u'LIKE'},\n",
       "   {u'id': u'10203457752232999',\n",
       "    u'name': u'Delia Motavalli',\n",
       "    u'type': u'LIKE'},\n",
       "   {u'id': u'490568304418189', u'name': u'Vince Duong', u'type': u'LIKE'},\n",
       "   {u'id': u'832995430071678', u'name': u'Scott Einsidler', u'type': u'LIKE'},\n",
       "   {u'id': u'764738453614051', u'name': u'Leonardo Ruiz', u'type': u'LIKE'},\n",
       "   {u'id': u'806720209393491', u'name': u'Ming Lewis', u'type': u'LIKE'}],\n",
       "  u'paging': {u'cursors': {u'after': u'TVRBd01EQXhOalkxTlRnME1UVTRPakUwT0RneU16WTBPRFE2TWpVME1EazJNVFl4TXc9PQZDZD',\n",
       "    u'before': u'TVRBd01EQXdNemd3T1RFM01qYzNPakUwT0RneU16ZA3dNalk2TWpVME1EazJNVFl4TXc9PQZDZD'},\n",
       "   u'next': u'https://graph.facebook.com/v2.8/1850066501928133_1858600104408106/reactions?access_token=EAACEdEose0cBAKWtQKmwqTYVYL3gB8Sds7m6QEtt0M89dcd0W6v1vdTicxEXFV65AhX1QlV6IQsUB3cjHYo17bUhMg03wM0lRg54F3mOqBKHMOMnoOb4ejAMZCXwI0ySpqTv6VlvEsevZAfC1HSurZAscfeO1PeAKUhaUUqPZC84rckYdF9VK6uRyR7stjIZD&fields=id%2Cname%2Ctype&limit=25&after=TVRBd01EQXhOalkxTlRnME1UVTRPakUwT0RneU16WTBPRFE2TWpVME1EazJNVFl4TXc9PQZDZD'}},\n",
       " u'status_type': u'added_photos',\n",
       " u'type': u'photo',\n",
       " u'updated_time': u'2017-02-27T23:24:57+0000'}"
      ]
     },
     "execution_count": 4,
     "metadata": {},
     "output_type": "execute_result"
    }
   ],
   "source": [
    "data['data'][0]"
   ]
  },
  {
   "cell_type": "code",
   "execution_count": 33,
   "metadata": {
    "collapsed": true
   },
   "outputs": [],
   "source": [
    "posts = []"
   ]
  },
  {
   "cell_type": "code",
   "execution_count": 35,
   "metadata": {
    "collapsed": false
   },
   "outputs": [],
   "source": [
    "def load_all_posts(myData):\n",
    "    global posts\n",
    "    posts = []\n",
    "    posts += myData['data']\n",
    "    call_count = 0\n",
    "    while ('next' in myData['paging']):\n",
    "        call_count += 1\n",
    "        print call_count\n",
    "        response = requests.get(myData['paging']['next'])\n",
    "        myData = json.loads(response.text)\n",
    "        if not 'data' in myData: # response is bad, may need new token\n",
    "            print \"Something went wrong while loading new response\"\n",
    "            print response\n",
    "            break\n",
    "        posts += myData['data']\n",
    "        if (not 'paging' in myData):\n",
    "            print myData\n",
    "            break"
   ]
  },
  {
   "cell_type": "code",
   "execution_count": 36,
   "metadata": {
    "collapsed": false
   },
   "outputs": [
    {
     "name": "stdout",
     "output_type": "stream",
     "text": [
      "1\n",
      "2\n",
      "3\n",
      "4\n",
      "5\n",
      "6\n",
      "7\n",
      "8\n",
      "9\n",
      "10\n",
      "11\n",
      "12\n",
      "13\n",
      "14\n",
      "15\n",
      "16\n",
      "17\n",
      "18\n",
      "19\n",
      "20\n",
      "21\n",
      "22\n",
      "23\n",
      "24\n",
      "25\n",
      "26\n",
      "27\n",
      "{u'data': []}\n"
     ]
    }
   ],
   "source": [
    "load_all_posts(data)\n",
    "\n"
   ]
  },
  {
   "cell_type": "code",
   "execution_count": 43,
   "metadata": {
    "collapsed": false
   },
   "outputs": [
    {
     "data": {
      "text/plain": [
       "665"
      ]
     },
     "execution_count": 43,
     "metadata": {},
     "output_type": "execute_result"
    }
   ],
   "source": [
    "len(posts)"
   ]
  },
  {
   "cell_type": "code",
   "execution_count": 8,
   "metadata": {
    "collapsed": true
   },
   "outputs": [],
   "source": [
    "is_a_meme_post = lambda x: x['type'] == 'link' or x['type'] == 'photo' or x['type'] == 'video' or ('attachments' in x and 'data' in x['attachments'])"
   ]
  },
  {
   "cell_type": "code",
   "execution_count": 44,
   "metadata": {
    "collapsed": false
   },
   "outputs": [],
   "source": [
    "memes_only = filter(is_a_meme_post, posts)"
   ]
  },
  {
   "cell_type": "code",
   "execution_count": 45,
   "metadata": {
    "collapsed": false
   },
   "outputs": [],
   "source": [
    "non_memes = filter(lambda x: not is_a_meme_post(x), posts)"
   ]
  },
  {
   "cell_type": "code",
   "execution_count": 46,
   "metadata": {
    "collapsed": false
   },
   "outputs": [
    {
     "name": "stdout",
     "output_type": "stream",
     "text": [
      "------------------------------------------------------------------------------\n",
      "2017-02-11T03:57:42+0000\n",
      "Mary Kate Kelley created the group Tufts Memes For Quirky Queens.\n",
      "{u'story': u'Mary Kate Kelley created the group Tufts Memes For Quirky Queens.', u'from': {u'name': u'Mary Kate Kelley', u'id': u'997162360318160'}, u'updated_time': u'2017-02-11T03:57:42+0000', u'created_time': u'2017-02-11T03:57:42+0000', u'type': u'status', u'id': u'1850066501928133_1850066511928132'}\n",
      "------------------------------------------------------------------------------\n",
      "2017-02-11T04:11:30+0000\n",
      "Mary Kate Kelley updated the description of the group Tufts Memes For Quirky Queens.\n",
      "Quirky memes only pls\n",
      "No reposts\n",
      "OC preferred but not required\n",
      "At least slap a tufts logo on there or smth\n",
      "Be nice thx\n",
      "------------------------------------------------------------------------------\n",
      "2017-02-11T04:11:38+0000\n",
      "Mary Kate Kelley changed the type of group: Tufts Memes For Quirky Queens to \"Study Group\".\n",
      "{u'reactions': {u'paging': {u'cursors': {u'after': u'TVRBd01EQTJOVEkwT0RVeU1UTTNPakUwT0RZAM09EYzNNemc2TWpVME1EazJNVFl4TXc9PQZDZD', u'before': u'TVRBd01EQTJOVEkwT0RVeU1UTTNPakUwT0RZAM09EYzNNemc2TWpVME1EazJNVFl4TXc9PQZDZD'}}, u'data': [{u'type': u'LIKE', u'id': u'1817234631837348', u'name': u'Peter Lam'}]}, u'story': u'Mary Kate Kelley changed the type of group: Tufts Memes For Quirky Queens\\xa0to \"Study Group\".', u'from': {u'name': u'Mary Kate Kelley', u'id': u'997162360318160'}, u'updated_time': u'2017-02-11T04:11:38+0000', u'created_time': u'2017-02-11T04:11:38+0000', u'type': u'status', u'id': u'1850066501928133_1850070288594421'}\n",
      "------------------------------------------------------------------------------\n",
      "2017-02-11T04:22:26+0000\n",
      "Mary Kate Kelley updated the description of the group Tufts Memes For Quirky Queens.\n",
      "Quirky memes only pls\n",
      "No reposts\n",
      "OC preferred but not required\n",
      "At least slap a tufts logo on there or smth\n",
      "Add ya friends\n",
      "Be nice thx\n",
      "------------------------------------------------------------------------------\n",
      "2017-02-11T05:15:47+0000\n",
      "Mary Kate Kelley updated the description of the group Tufts Memes For Quirky Queens.\n",
      "Quirky memes only pls\n",
      "\"BYOM: Bring Your Own Memes\" - peat lam\n",
      "No reposts\n",
      "OC preferred but not required\n",
      "At least slap a tufts logo on there or smth\n",
      "Add ya friends\n",
      "Be nice thx\n",
      "------------------------------------------------------------------------------\n",
      "2017-02-12T00:03:08+0000\n",
      "--\n",
      "Sup y'all. Admin here. Just wanted to make clear that we support all Tufts meme platforms on all social media. Memes for everyone every where. Including Instagram. And Facebook. If y'all want more memes follow @tuftsmemes on Instagram, one of the OG Tufts meme pages. TMFQQ is literally just here to create more Tufts-specific memes. Love reacts only!!!!\n",
      "------------------------------------------------------------------------------\n",
      "2017-02-12T18:21:12+0000\n",
      "--\n",
      "I am coming to Tufts as a freshman next Fall and I was wondering if I could have some explanation about the memes made about dining options. Which places are seen generally as bad, and which as good and why? Thanks\n",
      "------------------------------------------------------------------------------\n",
      "2017-02-12T22:38:10+0000\n",
      "--\n",
      "What's the difference between an IR major, a large cheese pizza, and a comp sci major?\n",
      ".\n",
      ".\n",
      ".\n",
      ".\n",
      ".\n",
      ".\n",
      ".\n",
      ".\n",
      ".\n",
      ".\n",
      ".\n",
      ".\n",
      "IR major is the only one that can't feed a family of four\n",
      "------------------------------------------------------------------------------\n",
      "2017-02-12T23:52:24+0000\n",
      "--\n",
      "Let it be known that Léo Mandani made it so all your posts have to be approved by a mod/admin, not me. #DICTATOR #CENSORSHIP #CREATIVITYISDEAD\n",
      "------------------------------------------------------------------------------\n",
      "2017-02-13T00:06:15+0000\n",
      "--\n",
      "hello all\n",
      "\n",
      "the admin approval has been removed TEMPORARILY \n",
      "\n",
      "pls be mindful of your shitposting and keep your posts related to tufts!!! \n",
      "\n",
      "k peace out\n",
      "------------------------------------------------------------------------------\n",
      "2017-02-14T05:31:17+0000\n",
      "--\n",
      "y'all PLEASE stop with the birds. we've gotten so many messages about it and I rly don't want to have to ban people over a pidgeon\n",
      "------------------------------------------------------------------------------\n",
      "2017-02-19T18:04:19+0000\n",
      "--\n",
      "a cappella groups with lungs <<<<<\n",
      "a cappella groups with gills >>>>>>>>>>>>>>>>>>>\n",
      "------------------------------------------------------------------------------\n",
      "2017-02-24T05:04:56+0000\n",
      "Léo Mandani updated the description of the group Tufts Memes For Quirky Queens.\n",
      "quirky memes only pls\n",
      "\"BYOM: Bring Your Own Memes\" - peat lam\n",
      "no reposts\n",
      "OC preferred but not required\n",
      "at least slap a tufts logo on there or smth\n",
      "add ya friends\n",
      "be nice thx\n",
      "free speech is dead at TMFQQ and the admins are not sorry\n",
      "------------------------------------------------------------------------------\n",
      "2017-02-25T02:58:58+0000\n",
      "--\n",
      "I felt like I should post a meme here but couldn't think of anything\n",
      "\n",
      "Bottom text\n"
     ]
    }
   ],
   "source": [
    "for nm in sorted(non_memes, key=lambda x: x['created_time']):\n",
    "    print '------------------------------------------------------------------------------'\n",
    "    print nm['created_time']\n",
    "    if ('story' in nm):\n",
    "        print nm['story']\n",
    "    else:\n",
    "        print '--'\n",
    "    if ('message' in nm):\n",
    "        print nm['message']\n",
    "    else:\n",
    "        print nm\n",
    "    "
   ]
  },
  {
   "cell_type": "code",
   "execution_count": 54,
   "metadata": {
    "collapsed": true
   },
   "outputs": [],
   "source": [
    "def load_likes_for_post(post_object):\n",
    "    call_count = 0\n",
    "    reactions = deepcopy(REACTION_DICT)\n",
    "    \n",
    "    # catch posts which have no reactions\n",
    "    if not 'reactions' in post_object:\n",
    "        post_object['reaction_data'] = reactions\n",
    "        post_object['total_reactions'] = 0\n",
    "        return\n",
    "    \n",
    "    reactions_object = post_object['reactions']\n",
    "    total_reactions = len(reactions_object['data'])\n",
    "    \n",
    "    # increment the reaction count for each reaction object we find\n",
    "    for r in reactions_object['data']:\n",
    "        reactions[r['type']] += 1\n",
    "        \n",
    "    # fetch the rest of the reactions from facebook\n",
    "    while ('next' in reactions_object['paging']):\n",
    "        call_count += 1 # for debugging purposes\n",
    "        # get the next 25 reactions\n",
    "        response = requests.get(reactions_object['paging']['next'])\n",
    "        # load the JSON\n",
    "        reactions_object = json.loads(response.text)\n",
    "        # handle errors\n",
    "        if not 'data' in reactions_object: # response is bad, may need new token\n",
    "            print \"Something went wrong while loading new response\"\n",
    "            print response\n",
    "            break\n",
    "        # with no errors, we can safely add our new data to the total counts\n",
    "        total_reactions += len(reactions_object['data'])\n",
    "        for r in reactions_object['data']:\n",
    "            reactions[r['type']] += 1\n",
    "        # handle another error\n",
    "        if (not 'paging' in reactions_object):\n",
    "            print reactions_object\n",
    "            break\n",
    "    \n",
    "    print call_count\n",
    "    # store our counts along with our post\n",
    "    post_object['reaction_data'] = reactions\n",
    "    post_object['total_reactions'] = total_reactions"
   ]
  },
  {
   "cell_type": "code",
   "execution_count": 52,
   "metadata": {
    "collapsed": false
   },
   "outputs": [],
   "source": [
    "def load_likes_for_all_posts(start_index=0):\n",
    "    for i,p in enumerate(posts):\n",
    "        if (i < start_index):\n",
    "            continue\n",
    "        print \"Post #\" + str(i+1)\n",
    "        load_likes_for_post(p)"
   ]
  },
  {
   "cell_type": "code",
   "execution_count": 55,
   "metadata": {
    "collapsed": false
   },
   "outputs": [
    {
     "name": "stdout",
     "output_type": "stream",
     "text": [
      "Post #665\n"
     ]
    }
   ],
   "source": [
    "load_likes_for_all_posts(664)"
   ]
  },
  {
   "cell_type": "code",
   "execution_count": 59,
   "metadata": {
    "collapsed": false
   },
   "outputs": [],
   "source": [
    "sorted_posts = sorted(memes_only, key=lambda x: x['total_reactions'])"
   ]
  },
  {
   "cell_type": "code",
   "execution_count": 81,
   "metadata": {
    "collapsed": false
   },
   "outputs": [
    {
     "data": {
      "text/plain": [
       "{'ANGRY': 0, 'HAHA': 17, 'LIKE': 767, 'LOVE': 25, 'SAD': 2, 'WOW': 4}"
      ]
     },
     "execution_count": 81,
     "metadata": {},
     "output_type": "execute_result"
    }
   ],
   "source": [
    "sorted_posts[650]['reaction_data']"
   ]
  },
  {
   "cell_type": "code",
   "execution_count": 76,
   "metadata": {
    "collapsed": false
   },
   "outputs": [],
   "source": [
    "def dump_data_to_file():\n",
    "    with open('post_data.json','w') as outfile:\n",
    "        json.dump(posts, outfile)"
   ]
  },
  {
   "cell_type": "code",
   "execution_count": 16,
   "metadata": {
    "collapsed": false
   },
   "outputs": [],
   "source": [
    "def load_data_from_file():\n",
    "    with open('post_data.json','r') as test:\n",
    "        d = json.load(test)\n",
    "        print d[0]"
   ]
  },
  {
   "cell_type": "code",
   "execution_count": 163,
   "metadata": {
    "collapsed": false
   },
   "outputs": [
    {
     "data": {
      "text/plain": [
       "{u'created_time': u'2017-02-11T03:57:42+0000',\n",
       " u'from': {u'id': u'997162360318160', u'name': u'Mary Kate Kelley'},\n",
       " u'id': u'1850066501928133_1850066511928132',\n",
       " 'reaction_data': {'ANGRY': 0,\n",
       "  'HAHA': 0,\n",
       "  'LIKE': 0,\n",
       "  'LOVE': 0,\n",
       "  'SAD': 0,\n",
       "  'WOW': 0},\n",
       " u'story': u'Mary Kate Kelley created the group Tufts Memes For Quirky Queens.',\n",
       " 'time_object': datetime.datetime(2017, 2, 10, 22, 57, 42, tzinfo=tzlocal()),\n",
       " 'total_reactions': 0,\n",
       " u'type': u'status',\n",
       " u'updated_time': u'2017-02-11T03:57:42+0000'}"
      ]
     },
     "execution_count": 163,
     "metadata": {},
     "output_type": "execute_result"
    }
   ],
   "source": [
    "posts[664]"
   ]
  },
  {
   "cell_type": "code",
   "execution_count": 123,
   "metadata": {
    "collapsed": false
   },
   "outputs": [
    {
     "name": "stdout",
     "output_type": "stream",
     "text": [
      "2017-02-10 22:57:42-05:00\n",
      "22\n"
     ]
    }
   ],
   "source": [
    "\n",
    "# to_zone = tz.tzlocal()\n",
    "# t = parser.parse(posts[664]['created_time'])\n",
    "# # t.replace(tzinfo=from_zone)\n",
    "# t = t.astimezone(to_zone)\n",
    "\n",
    "# print str(t)\n",
    "# print t.hour"
   ]
  },
  {
   "cell_type": "code",
   "execution_count": 164,
   "metadata": {
    "collapsed": false
   },
   "outputs": [],
   "source": [
    "time_post_buckets = dict.fromkeys(xrange(24), 0)\n",
    "time_like_buckets = dict.fromkeys(xrange(24), 0)\n",
    "to_zone = tz.tzlocal()\n",
    "for post in posts:\n",
    "    t = parser.parse(post['created_time'])\n",
    "    post['time_object'] = t.astimezone(to_zone)\n",
    "    time_post_buckets[t.hour] += 1\n",
    "    time_like_buckets[t.hour] += post['total_reactions']"
   ]
  },
  {
   "cell_type": "code",
   "execution_count": 165,
   "metadata": {
    "collapsed": false
   },
   "outputs": [
    {
     "data": {
      "text/plain": [
       "{0: 31,\n",
       " 1: 32,\n",
       " 2: 44,\n",
       " 3: 42,\n",
       " 4: 47,\n",
       " 5: 36,\n",
       " 6: 21,\n",
       " 7: 7,\n",
       " 8: 1,\n",
       " 9: 0,\n",
       " 10: 1,\n",
       " 11: 0,\n",
       " 12: 0,\n",
       " 13: 3,\n",
       " 14: 14,\n",
       " 15: 20,\n",
       " 16: 27,\n",
       " 17: 44,\n",
       " 18: 52,\n",
       " 19: 45,\n",
       " 20: 56,\n",
       " 21: 48,\n",
       " 22: 51,\n",
       " 23: 43}"
      ]
     },
     "execution_count": 165,
     "metadata": {},
     "output_type": "execute_result"
    }
   ],
   "source": [
    "time_post_buckets"
   ]
  },
  {
   "cell_type": "code",
   "execution_count": 145,
   "metadata": {
    "collapsed": false
   },
   "outputs": [
    {
     "data": {
      "text/plain": [
       "{0: 5570,\n",
       " 1: 7324,\n",
       " 2: 10003,\n",
       " 3: 8313,\n",
       " 4: 9575,\n",
       " 5: 5567,\n",
       " 6: 1893,\n",
       " 7: 1076,\n",
       " 8: 40,\n",
       " 9: 0,\n",
       " 10: 80,\n",
       " 11: 0,\n",
       " 12: 0,\n",
       " 13: 566,\n",
       " 14: 3189,\n",
       " 15: 3660,\n",
       " 16: 4971,\n",
       " 17: 9175,\n",
       " 18: 10909,\n",
       " 19: 11107,\n",
       " 20: 11287,\n",
       " 21: 8669,\n",
       " 22: 6432,\n",
       " 23: 9881}"
      ]
     },
     "execution_count": 145,
     "metadata": {},
     "output_type": "execute_result"
    }
   ],
   "source": [
    "time_like_buckets"
   ]
  },
  {
   "cell_type": "code",
   "execution_count": 149,
   "metadata": {
    "collapsed": false
   },
   "outputs": [
    {
     "data": {
      "image/png": "[encoded data removed]",
      "text/plain": [
       "<matplotlib.figure.Figure at 0xb1205f8c>"
      ]
     },
     "metadata": {},
     "output_type": "display_data"
    }
   ],
   "source": [
    "import matplotlib.pyplot as plt; plt.rcdefaults()\n",
    "import numpy as np\n",
    "import matplotlib.pyplot as plt\n",
    " \n",
    "objects = tuple(time_post_buckets.keys())\n",
    "y_pos = np.arange(len(objects))\n",
    "performance = time_post_buckets.values()\n",
    " \n",
    "plt.bar(y_pos, performance, align='center', alpha=0.5)\n",
    "plt.xticks(y_pos, objects)\n",
    "plt.ylabel('Number of Posts')\n",
    "plt.title('Times People Post Memes')\n",
    " \n",
    "plt.show()"
   ]
  },
  {
   "cell_type": "code",
   "execution_count": 162,
   "metadata": {
    "collapsed": false
   },
   "outputs": [
    {
     "data": {
      "image/png": "[encoded data removed]",
      "text/plain": [
       "<matplotlib.figure.Figure at 0xb0bad2ac>"
      ]
     },
     "metadata": {},
     "output_type": "display_data"
    }
   ],
   "source": [
    "objects = tuple(time_like_buckets.keys())\n",
    "y_pos = np.arange(len(objects))\n",
    "averages = list()\n",
    "for i in xrange(0, 24):\n",
    "    if (time_post_buckets[i] != 0):\n",
    "        averages += [time_like_buckets[i] / time_post_buckets[i]]\n",
    "    else:\n",
    "        averages += [0]\n",
    "        \n",
    "performance = averages\n",
    " \n",
    "plt.bar(y_pos, performance, align='center', alpha=0.5)\n",
    "plt.xticks(y_pos, objects)\n",
    "plt.ylabel('Average likes')\n",
    "plt.title('Average post likes per hour')\n",
    " \n",
    "plt.show()"
   ]
  },
  {
   "cell_type": "code",
   "execution_count": 153,
   "metadata": {
    "collapsed": false
   },
   "outputs": [
    {
     "data": {
      "text/plain": [
       "31"
      ]
     },
     "execution_count": 153,
     "metadata": {},
     "output_type": "execute_result"
    }
   ],
   "source": []
  }
 ],
 "metadata": {
  "kernelspec": {
   "display_name": "Python 2",
   "language": "python",
   "name": "python2"
  },
  "language_info": {
   "codemirror_mode": {
    "name": "ipython",
    "version": 2
   },
   "file_extension": ".py",
   "mimetype": "text/x-python",
   "name": "python",
   "nbconvert_exporter": "python",
   "pygments_lexer": "ipython2",
   "version": "2.7.12"
  }
 },
 "nbformat": 4,
 "nbformat_minor": 2
}
